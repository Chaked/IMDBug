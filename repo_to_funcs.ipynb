{
 "cells": [
  {
   "cell_type": "code",
   "execution_count": 19,
   "metadata": {},
   "outputs": [],
   "source": [
    "import pandas as pd\n",
    "from tree_sitter import Language\n",
    "\n",
    "import sys\n",
    "sys.path.append('function_parser/function_parser/')\n",
    "\n"
   ]
  },
  {
   "cell_type": "code",
   "execution_count": 21,
   "metadata": {},
   "outputs": [
    {
     "data": {
      "text/plain": [
       "False"
      ]
     },
     "execution_count": 21,
     "metadata": {},
     "output_type": "execute_result"
    }
   ],
   "source": [
    "from language_data import LANGUAGE_METADATA\n",
    "from process import DataProcessor\n",
    "import os\n",
    "import time\n",
    "from tree_sitter import Language, Parser\n",
    "\n",
    "Language.build_library(\n",
    "  # Store the library in the `build` directory\n",
    "  'build/my-languages.so',\n",
    "\n",
    "  # Include one or more languages\n",
    "  [\n",
    "    'tree-sitter-c'  \n",
    "  ]\n",
    ")"
   ]
  },
  {
   "cell_type": "code",
   "execution_count": 36,
   "metadata": {},
   "outputs": [
    {
     "data": {
      "text/plain": [
       "True"
      ]
     },
     "execution_count": 36,
     "metadata": {},
     "output_type": "execute_result"
    }
   ],
   "source": [
    "from tree_sitter import Language, Parser\n",
    "\n",
    "Language.build_library(\n",
    "  # Store the library in the `build` directory\n",
    "  'build/my-languages-cpp.so',\n",
    "\n",
    "  # Include one or more languages\n",
    "  [\n",
    "    'tree-sitter-cpp'  \n",
    "  ]\n",
    ")"
   ]
  },
  {
   "cell_type": "code",
   "execution_count": 22,
   "metadata": {},
   "outputs": [],
   "source": [
    "C_LANGUAGE = Language('build/my-languages.so', 'c')"
   ]
  },
  {
   "cell_type": "code",
   "execution_count": 39,
   "metadata": {},
   "outputs": [],
   "source": [
    "CPP_LANGUAGE = Language('build/my-languages-cpp.so', 'cpp')"
   ]
  },
  {
   "cell_type": "code",
   "execution_count": 40,
   "metadata": {},
   "outputs": [],
   "source": [
    "cpp_parser = Parser()\n",
    "cpp_parser.set_language(CPP_LANGUAGE)"
   ]
  },
  {
   "cell_type": "code",
   "execution_count": 240,
   "metadata": {},
   "outputs": [],
   "source": [
    "c_parser = Parser()\n",
    "c_parser.set_language(C_LANGUAGE)"
   ]
  },
  {
   "cell_type": "code",
   "execution_count": 241,
   "metadata": {},
   "outputs": [],
   "source": [
    "def walk(dir_name: str, ext: str):\n",
    "    return [os.path.join(dp, f) for dp, dn, filenames in os.walk(dir_name) \n",
    "            for f in filenames if os.path.splitext(f)[1] == '.' + ext]"
   ]
  },
  {
   "cell_type": "code",
   "execution_count": 26,
   "metadata": {},
   "outputs": [],
   "source": [
    "files = walk('repos/openssl', 'c')"
   ]
  },
  {
   "cell_type": "code",
   "execution_count": 27,
   "metadata": {},
   "outputs": [],
   "source": [
    "demo_file_name = files[3]\n",
    "with open(demo_file_name) as source_code:\n",
    "    blob = source_code.read()\n",
    "lines = blob.splitlines(True)"
   ]
  },
  {
   "cell_type": "code",
   "execution_count": 28,
   "metadata": {},
   "outputs": [],
   "source": [
    "tree = parser.parse(bytes(blob, \"utf-8\"))"
   ]
  },
  {
   "cell_type": "code",
   "execution_count": 35,
   "metadata": {},
   "outputs": [
    {
     "name": "stdout",
     "output_type": "stream",
     "text": [
      "2.985689878463745\n"
     ]
    }
   ],
   "source": [
    "t = time.time()\n",
    "for demo_file_name in files:\n",
    "    with open(demo_file_name) as source_code:\n",
    "        blob = source_code.read()\n",
    "    lines = blob.splitlines(True)\n",
    "    tree = parser.parse(bytes(blob, \"utf-8\"))\n",
    "    #classes = (node for node in tree.root_node.children if node.type == \"class_declaration\")\n",
    "    definitions = []\n",
    "    for idx, node in enumerate(tree.root_node.children):\n",
    "        if node.type == \"function_definition\":\n",
    "            start_line = -1\n",
    "            end_line = -1\n",
    "            for idx_c, node_c in enumerate(node.children):\n",
    "                if start_line == -1 or node_c.start_point[0] < start_line:\n",
    "                    start_line = node_c.start_point[0]\n",
    "                if end_line < node_c.end_point[0]:\n",
    "                    end_line = node_c.end_point[0]\n",
    "            definitions.append({\"function\": ''.join(lines[start_line:end_line]), \"start_line\": start_line, \"end_line\": end_line})\n",
    "        \n",
    "print(time.time() - t)"
   ]
  },
  {
   "cell_type": "code",
   "execution_count": 43,
   "metadata": {},
   "outputs": [],
   "source": [
    "files = walk('repos/faiss', 'cpp')"
   ]
  },
  {
   "cell_type": "code",
   "execution_count": 60,
   "metadata": {},
   "outputs": [],
   "source": [
    "demo_file_name = files[3]\n",
    "with open(demo_file_name) as source_code:\n",
    "    blob = source_code.read()\n",
    "lines = blob.splitlines(True)"
   ]
  },
  {
   "cell_type": "code",
   "execution_count": 61,
   "metadata": {},
   "outputs": [],
   "source": [
    "cpp_tree = cpp_parser.parse(bytes(blob, \"utf-8\"))"
   ]
  },
  {
   "cell_type": "code",
   "execution_count": 238,
   "metadata": {},
   "outputs": [],
   "source": [
    "func_nodes = []\n",
    "FUNC_NODE_TYPES = ['function_definition', 'preproc_function_def']\n",
    "for node in cpp_tree.root_node.children:\n",
    "    if node.type in FUNC_NODE_TYPES:\n",
    "        func_nodes.append(node)\n",
    "    for node_1 in node.children:\n",
    "        if node_1.type in FUNC_NODE_TYPES:\n",
    "            func_nodes.append(node_1)\n",
    "        for node_2 in node_1.children:\n",
    "            if node_2.type in FUNC_NODE_TYPES:\n",
    "                func_nodes.append(node_2)\n",
    "            for node_3 in node_2.children:\n",
    "                if node_3.type in FUNC_NODE_TYPES:\n",
    "                    func_nodes.append(node_3)\n",
    "                for node_4 in node_3.children:\n",
    "                    if node_4.type in FUNC_NODE_TYPES:\n",
    "                        func_nodes.append(node_4)\n",
    "                    for node_5 in node_4.children:\n",
    "                        if node_5.type in FUNC_NODE_TYPES:\n",
    "                            func_nodes.append(node_5)\n",
    "                        for node_6 in node_5.children:\n",
    "                            if node_6.type in FUNC_NODE_TYPES:\n",
    "                                func_nodes.append(node_6)\n",
    "                            for node_7 in node_6.children:\n",
    "                                if node_7.type in FUNC_NODE_TYPES:\n",
    "                                    func_nodes.append(node_7)"
   ]
  },
  {
   "cell_type": "code",
   "execution_count": 242,
   "metadata": {},
   "outputs": [],
   "source": [
    "definitions = []\n",
    "for node in func_nodes:\n",
    "    start_line = node.start_point[0]\n",
    "    end_line = node.end_point[0]\n",
    "    definitions.append({\"function\": ''.join(lines[start_line:end_line]), \"start_line\": start_line, \"end_line\": end_line})   "
   ]
  },
  {
   "cell_type": "code",
   "execution_count": 243,
   "metadata": {},
   "outputs": [],
   "source": [
    "import pandas as pd"
   ]
  },
  {
   "cell_type": "code",
   "execution_count": 244,
   "metadata": {},
   "outputs": [],
   "source": [
    "df = pd.read_csv('out/diffs.csv')"
   ]
  },
  {
   "cell_type": "code",
   "execution_count": 247,
   "metadata": {},
   "outputs": [
    {
     "data": {
      "text/html": [
       "<div>\n",
       "<style scoped>\n",
       "    .dataframe tbody tr th:only-of-type {\n",
       "        vertical-align: middle;\n",
       "    }\n",
       "\n",
       "    .dataframe tbody tr th {\n",
       "        vertical-align: top;\n",
       "    }\n",
       "\n",
       "    .dataframe thead th {\n",
       "        text-align: right;\n",
       "    }\n",
       "</style>\n",
       "<table border=\"1\" class=\"dataframe\">\n",
       "  <thead>\n",
       "    <tr style=\"text-align: right;\">\n",
       "      <th></th>\n",
       "      <th>repo_url</th>\n",
       "      <th>commit</th>\n",
       "      <th>cve</th>\n",
       "      <th>filename</th>\n",
       "      <th>before_lines</th>\n",
       "      <th>after_lines</th>\n",
       "      <th>before_gz_b64</th>\n",
       "      <th>after_gz_b64</th>\n",
       "    </tr>\n",
       "  </thead>\n",
       "  <tbody>\n",
       "    <tr>\n",
       "      <th>0</th>\n",
       "      <td>https://android.googlesource.com/device/google...</td>\n",
       "      <td>7df7ec13b1d222ac3a66797fbe432605ea8f973f</td>\n",
       "      <td>CVE-2017-0812</td>\n",
       "      <td>audio/hal/audio_hw.c</td>\n",
       "      <td>1</td>\n",
       "      <td>1</td>\n",
       "      <td>H4sIAC0M/mMC/+y9CXPbSLK2+1fQnvCE7bYtVhVWz9gn1B...</td>\n",
       "      <td>H4sIAC0M/mMC/+y9CXPbSLK2+1fQnvCE7fbCKhQ2z9gn1B...</td>\n",
       "    </tr>\n",
       "    <tr>\n",
       "      <th>1</th>\n",
       "      <td>https://android.googlesource.com/kernel/common</td>\n",
       "      <td>69bfe2d957d903521d32324190c2754cb073be15</td>\n",
       "      <td>CVE-2015-6640</td>\n",
       "      <td>kernel/sys.c</td>\n",
       "      <td>1</td>\n",
       "      <td>1</td>\n",
       "      <td>H4sIAH8S/mMC/+y9/3LbRtYt+rffouPUpOyMLBNA41cyyR...</td>\n",
       "      <td>H4sIAH8S/mMC/+y9/3LbRtYt+rffouPUpOyMLLOBxq9kkj...</td>\n",
       "    </tr>\n",
       "    <tr>\n",
       "      <th>2</th>\n",
       "      <td>https://android.googlesource.com/platform/boot...</td>\n",
       "      <td>28a566f7731b4cb76d2a9ba16d997ac5aeb07dad</td>\n",
       "      <td>CVE-2016-0849</td>\n",
       "      <td>minzip/SysUtil.c</td>\n",
       "      <td>1</td>\n",
       "      <td>1</td>\n",
       "      <td>H4sIAP4R/mMC/+1djVvbRtL/VzbuSwsEo++vBrtHEpLmXh...</td>\n",
       "      <td>H4sIAP4R/mMC/+1dDXvTuJb+KyKznSnQJP7+gCazBQrDbq...</td>\n",
       "    </tr>\n",
       "    <tr>\n",
       "      <th>3</th>\n",
       "      <td>https://android.googlesource.com/platform/dalvik</td>\n",
       "      <td>338aeaf28e9981c15d0673b18487dba61eb5447c</td>\n",
       "      <td>CVE-2016-3758</td>\n",
       "      <td>libdex/OptInvocation.cpp</td>\n",
       "      <td>1</td>\n",
       "      <td>1</td>\n",
       "      <td>H4sIAEsL/mMC/+1dC1fbuLb+K2rmzgxM8/I7aSFzKNCWng...</td>\n",
       "      <td>H4sIAEsL/mMC/+1dC1vbONb+K2pmZwamufnutJBZCrRltg...</td>\n",
       "    </tr>\n",
       "    <tr>\n",
       "      <th>4</th>\n",
       "      <td>https://android.googlesource.com/platform/exte...</td>\n",
       "      <td>5d4405f601fa11a8955fd7611532c982420e4206</td>\n",
       "      <td>CVE-2016-2428</td>\n",
       "      <td>libAACdec/src/aacdec_drc.cpp</td>\n",
       "      <td>1</td>\n",
       "      <td>1</td>\n",
       "      <td>H4sIAJwK/mMC/+29jXrbyLUt+CplZybH7rYkFv7RHftcSq...</td>\n",
       "      <td>H4sIAJwK/mMC/+29j17bSLYu+ioV5t7ZSSeA9V/qbrKPMU...</td>\n",
       "    </tr>\n",
       "    <tr>\n",
       "      <th>5</th>\n",
       "      <td>https://android.googlesource.com/platform/exte...</td>\n",
       "      <td>8e3be529372892e20ccf196809bc73276c822189</td>\n",
       "      <td>CVE-2017-13188</td>\n",
       "      <td>libSBRdec/src/lpp_tran.cpp</td>\n",
       "      <td>1</td>\n",
       "      <td>1</td>\n",
       "      <td>H4sIAJ4R/mMC/+29jXrbSJIt+CpZ7t0eqWxJxD9QVXavLE...</td>\n",
       "      <td>H4sIAJ4R/mMC/+29jVrbWLY2eCu70zN9QiWA9S9VVdIfIV...</td>\n",
       "    </tr>\n",
       "    <tr>\n",
       "      <th>6</th>\n",
       "      <td>https://android.googlesource.com/platform/exte...</td>\n",
       "      <td>0360aa7c418152a3e5e335a065ac3629cbb09559</td>\n",
       "      <td>CVE-2014-7914</td>\n",
       "      <td>btif/src/btif_dm.c</td>\n",
       "      <td>1</td>\n",
       "      <td>1</td>\n",
       "      <td>H4sIAKsV/mMC/+y9i3faSLY9/K+oM6tnJd15oLeUnvRdGH...</td>\n",
       "      <td>H4sIAKsV/mMC/+y9i3fiRrY9/K8oPSuzupN+oLfUmc5dGH...</td>\n",
       "    </tr>\n",
       "    <tr>\n",
       "      <th>7</th>\n",
       "      <td>https://android.googlesource.com/platform/exte...</td>\n",
       "      <td>c677ee92595335233eb0e7b59809a1a94e7a678a</td>\n",
       "      <td>CVE-2016-0850</td>\n",
       "      <td>include/bt_target.h</td>\n",
       "      <td>1</td>\n",
       "      <td>1</td>\n",
       "      <td>H4sIAKES/mMC/+y9i3LbSJat/So57jgdtse2iDvQ1VUTFA...</td>\n",
       "      <td>H4sIAKES/mMC/+y9i3LbSJat/So57jgdtse2iDvQ1VUTFA...</td>\n",
       "    </tr>\n",
       "    <tr>\n",
       "      <th>8</th>\n",
       "      <td>https://android.googlesource.com/platform/exte...</td>\n",
       "      <td>c677ee92595335233eb0e7b59809a1a94e7a678a</td>\n",
       "      <td>CVE-2016-0850</td>\n",
       "      <td>stack/btm/btm_int.h</td>\n",
       "      <td>1</td>\n",
       "      <td>1</td>\n",
       "      <td>H4sIAKES/mMC/+19bXubSpbt5/svmPS9PUmfJBbv0KeTfm...</td>\n",
       "      <td>H4sIAKES/mMC/+29e3ubSpYu/vf5Fkz69+tJeiexuEPvTv...</td>\n",
       "    </tr>\n",
       "    <tr>\n",
       "      <th>9</th>\n",
       "      <td>https://android.googlesource.com/platform/exte...</td>\n",
       "      <td>c677ee92595335233eb0e7b59809a1a94e7a678a</td>\n",
       "      <td>CVE-2016-0850</td>\n",
       "      <td>stack/btm/btm_sec.c</td>\n",
       "      <td>1</td>\n",
       "      <td>1</td>\n",
       "      <td>H4sIAKES/mMC/+y9fXfa1tYt/vfvW6jpSEfS5gW9S+lJ7i...</td>\n",
       "      <td>H4sIAKES/mMC/+y9a3fayNYt/Pn9F9XpkR5Jdy5IKt3SOz...</td>\n",
       "    </tr>\n",
       "  </tbody>\n",
       "</table>\n",
       "</div>"
      ],
      "text/plain": [
       "                                            repo_url  \\\n",
       "0  https://android.googlesource.com/device/google...   \n",
       "1     https://android.googlesource.com/kernel/common   \n",
       "2  https://android.googlesource.com/platform/boot...   \n",
       "3   https://android.googlesource.com/platform/dalvik   \n",
       "4  https://android.googlesource.com/platform/exte...   \n",
       "5  https://android.googlesource.com/platform/exte...   \n",
       "6  https://android.googlesource.com/platform/exte...   \n",
       "7  https://android.googlesource.com/platform/exte...   \n",
       "8  https://android.googlesource.com/platform/exte...   \n",
       "9  https://android.googlesource.com/platform/exte...   \n",
       "\n",
       "                                     commit             cve  \\\n",
       "0  7df7ec13b1d222ac3a66797fbe432605ea8f973f   CVE-2017-0812   \n",
       "1  69bfe2d957d903521d32324190c2754cb073be15   CVE-2015-6640   \n",
       "2  28a566f7731b4cb76d2a9ba16d997ac5aeb07dad   CVE-2016-0849   \n",
       "3  338aeaf28e9981c15d0673b18487dba61eb5447c   CVE-2016-3758   \n",
       "4  5d4405f601fa11a8955fd7611532c982420e4206   CVE-2016-2428   \n",
       "5  8e3be529372892e20ccf196809bc73276c822189  CVE-2017-13188   \n",
       "6  0360aa7c418152a3e5e335a065ac3629cbb09559   CVE-2014-7914   \n",
       "7  c677ee92595335233eb0e7b59809a1a94e7a678a   CVE-2016-0850   \n",
       "8  c677ee92595335233eb0e7b59809a1a94e7a678a   CVE-2016-0850   \n",
       "9  c677ee92595335233eb0e7b59809a1a94e7a678a   CVE-2016-0850   \n",
       "\n",
       "                       filename before_lines after_lines  \\\n",
       "0          audio/hal/audio_hw.c            1           1   \n",
       "1                  kernel/sys.c            1           1   \n",
       "2              minzip/SysUtil.c            1           1   \n",
       "3      libdex/OptInvocation.cpp            1           1   \n",
       "4  libAACdec/src/aacdec_drc.cpp            1           1   \n",
       "5    libSBRdec/src/lpp_tran.cpp            1           1   \n",
       "6            btif/src/btif_dm.c            1           1   \n",
       "7           include/bt_target.h            1           1   \n",
       "8           stack/btm/btm_int.h            1           1   \n",
       "9           stack/btm/btm_sec.c            1           1   \n",
       "\n",
       "                                       before_gz_b64  \\\n",
       "0  H4sIAC0M/mMC/+y9CXPbSLK2+1fQnvCE7bYtVhVWz9gn1B...   \n",
       "1  H4sIAH8S/mMC/+y9/3LbRtYt+rffouPUpOyMLBNA41cyyR...   \n",
       "2  H4sIAP4R/mMC/+1djVvbRtL/VzbuSwsEo++vBrtHEpLmXh...   \n",
       "3  H4sIAEsL/mMC/+1dC1fbuLb+K2rmzgxM8/I7aSFzKNCWng...   \n",
       "4  H4sIAJwK/mMC/+29jXrbyLUt+CplZybH7rYkFv7RHftcSq...   \n",
       "5  H4sIAJ4R/mMC/+29jXrbSJIt+CpZ7t0eqWxJxD9QVXavLE...   \n",
       "6  H4sIAKsV/mMC/+y9i3faSLY9/K+oM6tnJd15oLeUnvRdGH...   \n",
       "7  H4sIAKES/mMC/+y9i3LbSJat/So57jgdtse2iDvQ1VUTFA...   \n",
       "8  H4sIAKES/mMC/+19bXubSpbt5/svmPS9PUmfJBbv0KeTfm...   \n",
       "9  H4sIAKES/mMC/+y9fXfa1tYt/vfvW6jpSEfS5gW9S+lJ7i...   \n",
       "\n",
       "                                        after_gz_b64  \n",
       "0  H4sIAC0M/mMC/+y9CXPbSLK2+1fQnvCE7fbCKhQ2z9gn1B...  \n",
       "1  H4sIAH8S/mMC/+y9/3LbRtYt+rffouPUpOyMLLOBxq9kkj...  \n",
       "2  H4sIAP4R/mMC/+1dDXvTuJb+KyKznSnQJP7+gCazBQrDbq...  \n",
       "3  H4sIAEsL/mMC/+1dC1vbONb+K2pmZwamufnutJBZCrRltg...  \n",
       "4  H4sIAJwK/mMC/+29j17bSLYu+ioV5t7ZSSeA9V/qbrKPMU...  \n",
       "5  H4sIAJ4R/mMC/+29jVrbWLY2eCu70zN9QiWA9S9VVdIfIV...  \n",
       "6  H4sIAKsV/mMC/+y9i3fiRrY9/K8oPSuzupN+oLfUmc5dGH...  \n",
       "7  H4sIAKES/mMC/+y9i3LbSJat/So57jgdtse2iDvQ1VUTFA...  \n",
       "8  H4sIAKES/mMC/+29e3ubSpYu/vf5Fkz69+tJeiexuEPvTv...  \n",
       "9  H4sIAKES/mMC/+y9a3fayNYt/Pn9F9XpkR5Jdy5IKt3SOz...  "
      ]
     },
     "execution_count": 247,
     "metadata": {},
     "output_type": "execute_result"
    }
   ],
   "source": [
    "df.head(10)"
   ]
  },
  {
   "cell_type": "code",
   "execution_count": 246,
   "metadata": {},
   "outputs": [],
   "source": [
    "def decode_file(s):\n",
    "    return gzip.decompress(base64.b64decode(s)).decode('UTF-8')"
   ]
  },
  {
   "cell_type": "code",
   "execution_count": null,
   "metadata": {},
   "outputs": [],
   "source": [
    "df[]"
   ]
  }
 ],
 "metadata": {
  "kernelspec": {
   "display_name": "Python 3 (ipykernel)",
   "language": "python",
   "name": "python3"
  },
  "language_info": {
   "codemirror_mode": {
    "name": "ipython",
    "version": 3
   },
   "file_extension": ".py",
   "mimetype": "text/x-python",
   "name": "python",
   "nbconvert_exporter": "python",
   "pygments_lexer": "ipython3",
   "version": "3.8.15"
  }
 },
 "nbformat": 4,
 "nbformat_minor": 5
}